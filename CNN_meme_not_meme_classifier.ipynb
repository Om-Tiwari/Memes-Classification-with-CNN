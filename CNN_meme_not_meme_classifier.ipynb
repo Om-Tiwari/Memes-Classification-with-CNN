{
  "nbformat": 4,
  "nbformat_minor": 0,
  "metadata": {
    "colab": {
      "provenance": [],
      "gpuType": "T4",
      "authorship_tag": "ABX9TyNSeufQAfmC+4cnZPPcMntU",
      "include_colab_link": true
    },
    "kernelspec": {
      "name": "python3",
      "display_name": "Python 3"
    },
    "language_info": {
      "name": "python"
    },
    "accelerator": "GPU"
  },
  "cells": [
    {
      "cell_type": "markdown",
      "metadata": {
        "id": "view-in-github",
        "colab_type": "text"
      },
      "source": [
        "<a href=\"https://colab.research.google.com/github/Om-Tiwari/Memes-Classification-with-CNN/blob/main/CNN_meme_not_meme_classifier.ipynb\" target=\"_parent\"><img src=\"https://colab.research.google.com/assets/colab-badge.svg\" alt=\"Open In Colab\"/></a>"
      ]
    },
    {
      "cell_type": "code",
      "execution_count": 37,
      "metadata": {
        "colab": {
          "base_uri": "https://localhost:8080/"
        },
        "id": "QFxfIOEisyC7",
        "outputId": "fd74808f-37c1-4c3c-95a9-67beee4686e7"
      },
      "outputs": [
        {
          "output_type": "stream",
          "name": "stdout",
          "text": [
            "Warning: Your Kaggle API key is readable by other users on this system! To fix this, you can run 'chmod 600 /root/.kaggle/kaggle.json'\n",
            "Downloading memes-classification-dataset.zip to /content\n",
            " 96% 212M/221M [00:01<00:00, 114MB/s] \n",
            "100% 221M/221M [00:02<00:00, 115MB/s]\n"
          ]
        }
      ],
      "source": [
        "!mkdir -p ~/.kaggle\n",
        "!cp kaggle.json ~/.kaggle\n",
        "!kaggle datasets download -d vineethakkinapalli/memes-classification-dataset"
      ]
    },
    {
      "cell_type": "code",
      "source": [
        "import zipfile\n",
        "zip_ref = zipfile.ZipFile(\"/content/memes-classification-dataset.zip\")\n",
        "zip_ref.extractall(\"/content\")\n",
        "zip_ref.close()"
      ],
      "metadata": {
        "id": "HTl3r1dDts2i"
      },
      "execution_count": 38,
      "outputs": []
    },
    {
      "cell_type": "code",
      "source": [
        "import tensorflow as tf\n",
        "from tensorflow import keras\n",
        "from tensorflow.keras import layers\n",
        "\n",
        "import matplotlib.pyplot as plt"
      ],
      "metadata": {
        "id": "8B21uJH2uq4x"
      },
      "execution_count": 39,
      "outputs": []
    },
    {
      "cell_type": "code",
      "source": [
        "#generators\n",
        "train_ds = keras.utils.image_dataset_from_directory(\n",
        "    directory='/content/memes_dataset/train',\n",
        "    labels='inferred',\n",
        "    label_mode='int',\n",
        "    batch_size=32,\n",
        "    image_size=(256,256)\n",
        ")\n",
        "\n",
        "validation_ds = keras.utils.image_dataset_from_directory(\n",
        "    directory='/content/memes_dataset/test',\n",
        "    labels='inferred',\n",
        "    label_mode='int',\n",
        "    batch_size=32,\n",
        "    image_size=(256,256)\n",
        ")"
      ],
      "metadata": {
        "colab": {
          "base_uri": "https://localhost:8080/"
        },
        "id": "fCznSDXSu1f3",
        "outputId": "d3a3262a-78ff-4a16-a79c-61bb40f65061"
      },
      "execution_count": 40,
      "outputs": [
        {
          "output_type": "stream",
          "name": "stdout",
          "text": [
            "Found 1293 files belonging to 2 classes.\n",
            "Found 159 files belonging to 2 classes.\n"
          ]
        }
      ]
    },
    {
      "cell_type": "code",
      "source": [
        "# Normalize\n",
        "def process(image,label):\n",
        "    image = tf.cast(image/255. ,tf.float32)\n",
        "    return image,label\n",
        "\n",
        "train_ds = train_ds.map(process)\n",
        "validation_ds = validation_ds.map(process)"
      ],
      "metadata": {
        "id": "oymveVilu4fz"
      },
      "execution_count": 41,
      "outputs": []
    },
    {
      "source": [
        "model = keras.Sequential([\n",
        "    layers.Conv2D(32, kernel_size=(3, 3), padding='valid', activation='relu', input_shape=(256, 256, 3)),\n",
        "    layers.MaxPooling2D(pool_size=(2, 2), strides=2, padding='valid'),\n",
        "    layers.Conv2D(64, kernel_size=(3, 3), padding='valid', activation='relu'),\n",
        "    layers.MaxPooling2D(pool_size=(2, 2), strides=2, padding='valid'),\n",
        "    layers.Conv2D(128, kernel_size=(3, 3), padding='valid', activation='relu'),\n",
        "    layers.MaxPooling2D(pool_size=(2, 2), strides=2, padding='valid'),\n",
        "    layers.Flatten(),\n",
        "    layers.Dropout(rate=0.5),\n",
        "    layers.Dense(128, activation='relu'),\n",
        "    layers.Dense(64, activation='relu'),\n",
        "    layers.Dense(1, activation='sigmoid')\n",
        "])"
      ],
      "cell_type": "code",
      "metadata": {
        "id": "0Z_v2SK30esQ"
      },
      "execution_count": 56,
      "outputs": []
    },
    {
      "cell_type": "code",
      "source": [
        "model.compile(optimizer='Adam', loss='binary_crossentropy', metrics=['accuracy'])"
      ],
      "metadata": {
        "id": "EZY608Re0SZf"
      },
      "execution_count": 57,
      "outputs": []
    },
    {
      "cell_type": "code",
      "source": [
        "history = model.fit(train_ds, epochs=10, validation_data=validation_ds)"
      ],
      "metadata": {
        "colab": {
          "base_uri": "https://localhost:8080/"
        },
        "id": "1n-jXGZI4xdH",
        "outputId": "7a1c2b65-975d-4e59-9b01-8c6047f20a21"
      },
      "execution_count": 58,
      "outputs": [
        {
          "output_type": "stream",
          "name": "stdout",
          "text": [
            "Epoch 1/10\n",
            "41/41 [==============================] - 14s 245ms/step - loss: 0.7340 - accuracy: 0.6899 - val_loss: 0.4598 - val_accuracy: 0.8050\n",
            "Epoch 2/10\n",
            "41/41 [==============================] - 13s 276ms/step - loss: 0.3542 - accuracy: 0.8616 - val_loss: 0.4159 - val_accuracy: 0.8365\n",
            "Epoch 3/10\n",
            "41/41 [==============================] - 13s 269ms/step - loss: 0.2174 - accuracy: 0.9188 - val_loss: 0.2550 - val_accuracy: 0.9182\n",
            "Epoch 4/10\n",
            "41/41 [==============================] - 13s 277ms/step - loss: 0.1093 - accuracy: 0.9652 - val_loss: 0.1327 - val_accuracy: 0.9497\n",
            "Epoch 5/10\n",
            "41/41 [==============================] - 13s 260ms/step - loss: 0.0681 - accuracy: 0.9760 - val_loss: 0.1238 - val_accuracy: 0.9623\n",
            "Epoch 6/10\n",
            "41/41 [==============================] - 13s 276ms/step - loss: 0.0234 - accuracy: 0.9899 - val_loss: 0.1225 - val_accuracy: 0.9497\n",
            "Epoch 7/10\n",
            "41/41 [==============================] - 13s 265ms/step - loss: 0.0126 - accuracy: 0.9969 - val_loss: 0.1204 - val_accuracy: 0.9560\n",
            "Epoch 8/10\n",
            "41/41 [==============================] - 13s 277ms/step - loss: 0.0030 - accuracy: 1.0000 - val_loss: 0.1380 - val_accuracy: 0.9434\n",
            "Epoch 9/10\n",
            "41/41 [==============================] - 13s 287ms/step - loss: 0.0019 - accuracy: 1.0000 - val_loss: 0.1247 - val_accuracy: 0.9497\n",
            "Epoch 10/10\n",
            "41/41 [==============================] - 13s 274ms/step - loss: 3.7412e-04 - accuracy: 1.0000 - val_loss: 0.1582 - val_accuracy: 0.9497\n"
          ]
        }
      ]
    },
    {
      "cell_type": "code",
      "source": [
        "plt.plot(history.history['val_loss'], color=\"red\")\n",
        "plt.plot(history.history['loss'], color=\"blue\")"
      ],
      "metadata": {
        "colab": {
          "base_uri": "https://localhost:8080/",
          "height": 447
        },
        "id": "Gxyi0UJA40KQ",
        "outputId": "c806d194-b9d9-4484-f4c7-aad0ac25f3f1"
      },
      "execution_count": 59,
      "outputs": [
        {
          "output_type": "execute_result",
          "data": {
            "text/plain": [
              "[<matplotlib.lines.Line2D at 0x7cb2fc33dae0>]"
            ]
          },
          "metadata": {},
          "execution_count": 59
        },
        {
          "output_type": "display_data",
          "data": {
            "text/plain": [
              "<Figure size 640x480 with 1 Axes>"
            ],
            "image/png": "[encoded data removed]"
          },
          "metadata": {}
        }
      ]
    },
    {
      "cell_type": "code",
      "source": [
        "plt.plot(history.history['val_accuracy'], color=\"red\")\n",
        "plt.plot(history.history['accuracy'], color=\"blue\")"
      ],
      "metadata": {
        "colab": {
          "base_uri": "https://localhost:8080/",
          "height": 447
        },
        "id": "sKx1WJm242Fo",
        "outputId": "0c065ae9-1e81-4104-8801-6bc3e9b23dd3"
      },
      "execution_count": 60,
      "outputs": [
        {
          "output_type": "execute_result",
          "data": {
            "text/plain": [
              "[<matplotlib.lines.Line2D at 0x7cb2fc3c9840>]"
            ]
          },
          "metadata": {},
          "execution_count": 60
        },
        {
          "output_type": "display_data",
          "data": {
            "text/plain": [
              "<Figure size 640x480 with 1 Axes>"
            ],
            "image/png": "[encoded data removed]"
          },
          "metadata": {}
        }
      ]
    },
    {
      "cell_type": "code",
      "source": [
        "test_ds = keras.utils.image_dataset_from_directory(\n",
        "    directory='/content/memes_dataset/test',\n",
        "    labels='inferred',\n",
        "    label_mode='int',\n",
        "    batch_size=1,\n",
        "    image_size=(256,256)\n",
        ")\n",
        "\n",
        "def process(image,label):\n",
        "    image = tf.cast(image/255. ,tf.float32)\n",
        "    return image,label\n",
        "\n",
        "test_ds = test_ds.map(process)\n",
        "\n",
        "predictions = model.predict(test_ds)"
      ],
      "metadata": {
        "colab": {
          "base_uri": "https://localhost:8080/"
        },
        "id": "5544KNL5434L",
        "outputId": "fa93006d-53fe-4d3d-de78-e2f0a5d5219c"
      },
      "execution_count": 61,
      "outputs": [
        {
          "output_type": "stream",
          "name": "stdout",
          "text": [
            "Found 159 files belonging to 2 classes.\n",
            "159/159 [==============================] - 2s 9ms/step\n"
          ]
        }
      ]
    },
    {
      "cell_type": "code",
      "source": [
        "img = keras.preprocessing.image.load_img('/content/download.jpg')\n",
        "img = tf.image.resize(img, (256, 256))\n",
        "img = keras.preprocessing.image.img_to_array(img)\n",
        "img = tf.expand_dims(img, axis=0)\n",
        "img = tf.cast(img/255. ,tf.float32)\n",
        "\n",
        "predictions = model.predict(img)\n",
        "if predictions[0] < 0.5:\n",
        "  print(\"Image is a meme\")\n",
        "else:\n",
        "  print(\"Image is not a meme\")\n"
      ],
      "metadata": {
        "colab": {
          "base_uri": "https://localhost:8080/"
        },
        "id": "fvPgzBWt8rHp",
        "outputId": "c3405f2d-6f94-402f-e3da-9ea74c33d0f8"
      },
      "execution_count": 62,
      "outputs": [
        {
          "output_type": "stream",
          "name": "stdout",
          "text": [
            "1/1 [==============================] - 0s 77ms/step\n",
            "Image is not a meme\n"
          ]
        }
      ]
    },
    {
      "cell_type": "code",
      "source": [
        "model.save('/content/CNN-meme-not-meme.keras')"
      ],
      "metadata": {
        "id": "n52dBHn395XF"
      },
      "execution_count": 63,
      "outputs": []
    }
  ]
}